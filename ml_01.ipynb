{
 "cells": [
  {
   "cell_type": "code",
   "execution_count": 3,
   "id": "4f35ee20-0dc6-4ac5-b899-f63fa3add65d",
   "metadata": {},
   "outputs": [],
   "source": [
    "import numpy as np\n",
    "import time"
   ]
  },
  {
   "cell_type": "code",
   "execution_count": 4,
   "id": "a10bef66-19a1-486c-9865-bd66ab40b5b8",
   "metadata": {},
   "outputs": [
    {
     "name": "stdout",
     "output_type": "stream",
     "text": [
      "np.random.random_sample(4): a = [0.415141   0.7931899  0.76200714 0.30732703], a shape = (4,), a data type = float64\n"
     ]
    }
   ],
   "source": [
    "a = np.zeros(4); # sıfırlarla doldurulmuş bir dizi veya rastgele değerler.\n",
    "a = np.random.random_sample(4); print(f\"np.random.random_sample(4): a = {a}, a shape = {a.shape}, a data type = {a.dtype}\")"
   ]
  },
  {
   "cell_type": "markdown",
   "id": "32a5dd27-6ded-449e-8cc8-07933f10e0f0",
   "metadata": {},
   "source": [
    "## NumPy Arrays"
   ]
  },
  {
   "cell_type": "code",
   "execution_count": 18,
   "id": "73ceb046-2940-4773-bbfe-eb0aadac430e",
   "metadata": {},
   "outputs": [
    {
     "name": "stdout",
     "output_type": "stream",
     "text": [
      "np.arange(4.): a = [0. 1. 2. 3.], a shape = (4,), a data type = float64\n",
      "np.random.rand(4):    a = [0.10178859 0.66993926 0.50785156 0.18338371], a shape = (4,), a data type = float64\n"
     ]
    }
   ],
   "source": [
    " # belirli bir aralıkta sıralı tam sayılar içeren diziler.\n",
    "a = np.arange(4.);           print(f\"np.arange(4.): a = {a}, a shape = {a.shape}, a data type = {a.dtype}\")\n",
    "a = np.random.rand(4);      print(f\"np.random.rand(4):    a = {a}, a shape = {a.shape}, a data type = {a.dtype}\")"
   ]
  },
  {
   "cell_type": "code",
   "execution_count": 14,
   "id": "f86edbb6-f0cc-4c48-83fa-c766d34c3f10",
   "metadata": {},
   "outputs": [
    {
     "name": "stdout",
     "output_type": "stream",
     "text": [
      "np.array([5,4,3,2]): a = [5 4 3 2]\n"
     ]
    }
   ],
   "source": [
    "a = np.array([5,4,3,2]); print(f\"np.array([5,4,3,2]): a = {a}\")"
   ]
  },
  {
   "cell_type": "markdown",
   "id": "17f739fd-083a-4f88-a07b-4b38bdc2384d",
   "metadata": {},
   "source": [
    "### Indexing"
   ]
  },
  {
   "cell_type": "code",
   "execution_count": 27,
   "id": "b4410879-8d97-4e80-be0f-8969f75c0a2a",
   "metadata": {},
   "outputs": [
    {
     "name": "stdout",
     "output_type": "stream",
     "text": [
      "[0 1 2 3 4 5 6 7 8 9]\n",
      "\n",
      "a[-1]= 9\n",
      "The error message you'll see is:\n",
      "index 10 is out of bounds for axis 0 with size 10\n"
     ]
    }
   ],
   "source": [
    "a = np.arange(10);\n",
    "print(f\"{a}\\n\")\n",
    "print(f\"a[-1]= {a[-1]}\")\n",
    "\n",
    "try:\n",
    "    c = a[10]\n",
    "except Exception as e:\n",
    "    print(\"The error message :\")\n",
    "    print(e)"
   ]
  },
  {
   "cell_type": "markdown",
   "id": "36512b02-f6cd-474f-9cf2-dabeeedf7b51",
   "metadata": {},
   "source": [
    "### Slicing"
   ]
  },
  {
   "cell_type": "code",
   "execution_count": 30,
   "id": "624f83d1-eff9-45c4-8cb1-b793024b57ca",
   "metadata": {},
   "outputs": [
    {
     "name": "stdout",
     "output_type": "stream",
     "text": [
      "a                     =[0 1 2 3 4 5 6 7 8 9]\n",
      "a[2:7:1] =  [2 3 4 5 6]\n",
      "a[2:7:2] =  [2 4 6]\n",
      "a[2:] =  [2 3 4 5 6 7 8 9]\n",
      "a[:2] =  [0 1]\n"
     ]
    }
   ],
   "source": [
    "a = np.arange(10);\n",
    "print(f\"a                     ={a}\")\n",
    "\n",
    "# start:stop:step\n",
    "c = a[2:7:1]\n",
    "print(\"a[2:7:1] = \", c)\n",
    "\n",
    "c = a[2:7:2]\n",
    "print(\"a[2:7:2] = \", c)\n",
    "\n",
    "c = a[2:]\n",
    "print(\"a[2:] = \", c)\n",
    "\n",
    "c = a[:2]\n",
    "print(\"a[:2] = \", c)"
   ]
  },
  {
   "cell_type": "markdown",
   "id": "532122f1-4ae5-4b9a-b287-97e9fb92c199",
   "metadata": {},
   "source": [
    "### Vector operations"
   ]
  },
  {
   "cell_type": "code",
   "execution_count": 31,
   "id": "8cde4f6b-1b09-480c-9465-0ce735aedb13",
   "metadata": {},
   "outputs": [
    {
     "name": "stdout",
     "output_type": "stream",
     "text": [
      "a             : [1 2 3 4]\n",
      "b = -a        : [-1 -2 -3 -4]\n",
      "b = np.sum(a) : 10\n",
      "b = np.mean(a): 2.5\n",
      "b = a**2      : [ 1  4  9 16]\n"
     ]
    }
   ],
   "source": [
    "a = np.array([1,2,3,4])\n",
    "print(f\"a             : {a}\")\n",
    "# negate elements of a\n",
    "b = -a \n",
    "print(f\"b = -a        : {b}\")\n",
    "\n",
    "b = np.sum(a) \n",
    "print(f\"b = np.sum(a) : {b}\")\n",
    "\n",
    "b = np.mean(a)\n",
    "print(f\"b = np.mean(a): {b}\")\n",
    "\n",
    "b = a**2\n",
    "print(f\"b = a**2      : {b}\")"
   ]
  },
  {
   "cell_type": "code",
   "execution_count": 33,
   "id": "06b95b90-a4a0-4571-945d-c825657904ea",
   "metadata": {},
   "outputs": [
    {
     "name": "stdout",
     "output_type": "stream",
     "text": [
      " a + b = [0 0 6 8]\n"
     ]
    }
   ],
   "source": [
    "a = np.array([ 1, 2, 3, 4])\n",
    "b = np.array([-1,-2, 3, 4])\n",
    "print(f\" a + b = {a + b}\")"
   ]
  },
  {
   "cell_type": "markdown",
   "id": "82371aab-72fb-4011-817c-bbe05bfd4773",
   "metadata": {},
   "source": [
    "### Vector Vector dot product\n",
    "NumPy'da dot product, iki vektörün elemanlarının çarpılıp toplanmasıyla elde edilir."
   ]
  },
  {
   "cell_type": "code",
   "execution_count": null,
   "id": "d3211948-9072-4fc2-98ff-d84b3a8ed959",
   "metadata": {},
   "outputs": [],
   "source": []
  }
 ],
 "metadata": {
  "kernelspec": {
   "display_name": "Python 3 (ipykernel)",
   "language": "python",
   "name": "python3"
  },
  "language_info": {
   "codemirror_mode": {
    "name": "ipython",
    "version": 3
   },
   "file_extension": ".py",
   "mimetype": "text/x-python",
   "name": "python",
   "nbconvert_exporter": "python",
   "pygments_lexer": "ipython3",
   "version": "3.9.20"
  }
 },
 "nbformat": 4,
 "nbformat_minor": 5
}
